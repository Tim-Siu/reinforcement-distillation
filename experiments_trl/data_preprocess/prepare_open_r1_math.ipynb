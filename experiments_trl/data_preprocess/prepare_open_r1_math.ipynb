{
 "cells": [
  {
   "cell_type": "code",
   "execution_count": 1,
   "metadata": {},
   "outputs": [
    {
     "name": "stdout",
     "output_type": "stream",
     "text": [
      "Current working directory: /inspire/ssd/ws-ba572160-47f8-4ca1-984e-d6bcdeb95dbb/a100-maybe/public/xushuyao/reft-private/experiments_trl/data_preprocess\n"
     ]
    }
   ],
   "source": [
    "import os\n",
    "\n",
    "print(\"Current working directory:\", os.getcwd())\n",
    "\n",
    "os.environ['HF_ENDPOINT'] = 'https://hf-mirror.com'\n",
    "\n",
    "dataset = \"../hf_datasets/open-r1/OpenR1-Math-220k\""
   ]
  },
  {
   "cell_type": "code",
   "execution_count": null,
   "metadata": {},
   "outputs": [],
   "source": [
    "from datasets import load_dataset_builder\n",
    "\n",
    "ds_builder = load_dataset_builder(dataset)\n",
    "\n",
    "ds_builder.info.description\n",
    "\n",
    "ds_builder.info.features"
   ]
  },
  {
   "cell_type": "code",
   "execution_count": 3,
   "metadata": {},
   "outputs": [
    {
     "name": "stderr",
     "output_type": "stream",
     "text": [
      "Generating train split: 100%|██████████| 93733/93733 [00:08<00:00, 10635.47 examples/s]\n"
     ]
    }
   ],
   "source": [
    "from datasets import load_dataset\n",
    "\n",
    "# Login using e.g. `huggingface-cli login` to access this dataset\n",
    "ds = load_dataset(\"../hf_datasets/open-r1/OpenR1-Math-220k\", \"default\", split=\"train\")"
   ]
  },
  {
   "cell_type": "code",
   "execution_count": 4,
   "metadata": {},
   "outputs": [
    {
     "name": "stdout",
     "output_type": "stream",
     "text": [
      "[{'content': '## Task B-1.3.\\n\\nA ship traveling along a river has covered $24 \\\\mathrm{~km}$ upstream and $28 \\\\mathrm{~km}$ downstream. For this journey, it took half an hour less than for traveling $30 \\\\mathrm{~km}$ upstream and $21 \\\\mathrm{~km}$ downstream, or half an hour more than for traveling $15 \\\\mathrm{~km}$ upstream and $42 \\\\mathrm{~km}$ downstream, assuming that both the ship and the river move uniformly.\\n\\nDetermine the speed of the ship in still water and the speed of the river.', 'role': 'user'}, {'content': '<think>\\nOkay, so I need to find the speed of the ship in still water and the speed of the river. Let me start by recalling that when a ship is moving upstream, its effective speed is the speed of the ship minus the speed of the river. Conversely, when moving downstream, its effective speed is the ship\\'s speed plus the river\\'s speed. \\n\\nLet me denote the speed of the ship in still water as \\\\( v \\\\) (in km/h) and the speed of the river as \\\\( r \\\\) (also in km/h). Then, the upstream speed would be \\\\( v - r \\\\), and the downstream speed would be \\\\( v + r \\\\).\\n\\nThe problem mentions three different journeys:\\n\\n1. 24 km upstream and 28 km downstream, taking half an hour less than the second journey.\\n2. 30 km upstream and 21 km downstream, which takes half an hour more than the first journey.\\n3. 15 km upstream and 42 km downstream, which takes half an hour less than the first journey.\\n\\nWait, actually, the problem states: \"For this journey, it took half an hour less than for traveling 30 km upstream and 21 km downstream, or half an hour more than for traveling 15 km upstream and 42 km downstream...\"\\n\\nHmm, let me parse that again. The first journey (24 km upstream, 28 km downstream) took half an hour less than the journey with 30 km upstream and 21 km downstream. Alternatively, it took half an hour more than the journey with 15 km upstream and 42 km downstream. So, there are two comparisons here:\\n\\n- Time for 24 up + 28 down = Time for 30 up + 21 down - 0.5 hours\\n- Time for 24 up + 28 down = Time for 15 up + 42 down + 0.5 hours\\n\\nTherefore, we can set up two equations based on these time differences.\\n\\nFirst, let me express the time taken for each journey. Time is equal to distance divided by speed. So, for the first journey (24 km up, 28 km down):\\n\\nTime1 = \\\\( \\\\frac{24}{v - r} + \\\\frac{28}{v + r} \\\\)\\n\\nFor the second journey (30 km up, 21 km down):\\n\\nTime2 = \\\\( \\\\frac{30}{v - r} + \\\\frac{21}{v + r} \\\\)\\n\\nAccording to the problem, Time1 = Time2 - 0.5\\n\\nSimilarly, for the third journey (15 km up, 42 km down):\\n\\nTime3 = \\\\( \\\\frac{15}{v - r} + \\\\frac{42}{v + r} \\\\)\\n\\nAnd here, Time1 = Time3 + 0.5\\n\\nSo, we have two equations:\\n\\n1. \\\\( \\\\frac{24}{v - r} + \\\\frac{28}{v + r} = \\\\frac{30}{v - r} + \\\\frac{21}{v + r} - 0.5 \\\\)\\n2. \\\\( \\\\frac{24}{v - r} + \\\\frac{28}{v + r} = \\\\frac{15}{v - r} + \\\\frac{42}{v + r} + 0.5 \\\\)\\n\\nOkay, so now I need to solve these two equations for \\\\( v \\\\) and \\\\( r \\\\).\\n\\nLet me first work on the first equation:\\n\\n\\\\( \\\\frac{24}{v - r} + \\\\frac{28}{v + r} = \\\\frac{30}{v - r} + \\\\frac{21}{v + r} - 0.5 \\\\)\\n\\nLet me subtract \\\\( \\\\frac{24}{v - r} + \\\\frac{28}{v + r} \\\\) from both sides, but maybe it\\'s better to bring all terms to the left side:\\n\\n\\\\( \\\\frac{24}{v - r} + \\\\frac{28}{v + r} - \\\\frac{30}{v - r} - \\\\frac{21}{v + r} + 0.5 = 0 \\\\)\\n\\nSimplify the terms:\\n\\nFor the upstream terms: \\\\( 24 - 30 = -6 \\\\), so \\\\( \\\\frac{-6}{v - r} \\\\)\\n\\nFor the downstream terms: \\\\( 28 - 21 = 7 \\\\), so \\\\( \\\\frac{7}{v + r} \\\\)\\n\\nSo, the equation becomes:\\n\\n\\\\( \\\\frac{-6}{v - r} + \\\\frac{7}{v + r} + 0.5 = 0 \\\\)\\n\\nSimilarly, for the second equation:\\n\\n\\\\( \\\\frac{24}{v - r} + \\\\frac{28}{v + r} - \\\\frac{15}{v - r} - \\\\frac{42}{v + r} - 0.5 = 0 \\\\)\\n\\nSimplify:\\n\\nUpstream terms: \\\\( 24 - 15 = 9 \\\\), so \\\\( \\\\frac{9}{v - r} \\\\)\\n\\nDownstream terms: \\\\( 28 - 42 = -14 \\\\), so \\\\( \\\\frac{-14}{v + r} \\\\)\\n\\nThus:\\n\\n\\\\( \\\\frac{9}{v - r} - \\\\frac{14}{v + r} - 0.5 = 0 \\\\)\\n\\nNow, we have two equations:\\n\\n1. \\\\( -\\\\frac{6}{v - r} + \\\\frac{7}{v + r} + 0.5 = 0 \\\\)\\n2. \\\\( \\\\frac{9}{v - r} - \\\\frac{14}{v + r} - 0.5 = 0 \\\\)\\n\\nLet me denote \\\\( x = \\\\frac{1}{v - r} \\\\) and \\\\( y = \\\\frac{1}{v + r} \\\\). Then, the equations become:\\n\\n1. \\\\( -6x + 7y + 0.5 = 0 \\\\) ⇒ \\\\( -6x + 7y = -0.5 \\\\)\\n2. \\\\( 9x - 14y - 0.5 = 0 \\\\) ⇒ \\\\( 9x - 14y = 0.5 \\\\)\\n\\nNow, we have a system of linear equations:\\n\\nEquation (1): \\\\( -6x + 7y = -0.5 \\\\)\\n\\nEquation (2): \\\\( 9x - 14y = 0.5 \\\\)\\n\\nLet me solve this system using the elimination method. Let\\'s multiply Equation (1) by 2 to make the coefficients of y terms opposites:\\n\\nEquation (1) multiplied by 2: \\\\( -12x + 14y = -1 \\\\)\\n\\nNow, add this to Equation (2):\\n\\n\\\\( (-12x + 14y) + (9x -14y) = -1 + 0.5 \\\\)\\n\\nSimplify:\\n\\n\\\\( -3x = -0.5 \\\\)\\n\\nThus, \\\\( x = (-0.5)/(-3) = 0.5/3 ≈ 0.1667 \\\\)\\n\\nBut exact value is \\\\( x = 1/6 \\\\)\\n\\nNow, substitute \\\\( x = 1/6 \\\\) back into Equation (1):\\n\\n\\\\( -6*(1/6) + 7y = -0.5 \\\\)\\n\\nSimplify:\\n\\n\\\\( -1 + 7y = -0.5 \\\\)\\n\\nAdd 1 to both sides:\\n\\n7y = 0.5\\n\\nThus, \\\\( y = 0.5/7 = 1/14 ≈ 0.0714 \\\\)\\n\\nSo, \\\\( x = 1/6 \\\\) and \\\\( y = 1/14 \\\\)\\n\\nRecall that \\\\( x = \\\\frac{1}{v - r} = 1/6 \\\\) ⇒ \\\\( v - r = 6 \\\\)\\n\\nSimilarly, \\\\( y = \\\\frac{1}{v + r} = 1/14 \\\\) ⇒ \\\\( v + r = 14 \\\\)\\n\\nTherefore, we have two equations:\\n\\n1. \\\\( v - r = 6 \\\\)\\n2. \\\\( v + r = 14 \\\\)\\n\\nAdding these equations:\\n\\n\\\\( (v - r) + (v + r) = 6 + 14 \\\\)\\n\\nSimplify:\\n\\n\\\\( 2v = 20 \\\\) ⇒ \\\\( v = 10 \\\\)\\n\\nSubstituting back into \\\\( v + r = 14 \\\\):\\n\\n\\\\( 10 + r = 14 \\\\) ⇒ \\\\( r = 4 \\\\)\\n\\nSo, the speed of the ship in still water is 10 km/h, and the speed of the river is 4 km/h.\\n\\nLet me verify these results by plugging them back into the original time equations.\\n\\nFirst journey: 24/(10-4) + 28/(10+4) = 24/6 + 28/14 = 4 + 2 = 6 hours.\\n\\nSecond journey: 30/(10-4) + 21/(10+4) = 30/6 + 21/14 = 5 + 1.5 = 6.5 hours. So, 6.5 - 0.5 = 6 hours, which matches the first journey. Good.\\n\\nThird journey: 15/(10-4) + 42/(10+4) = 15/6 + 42/14 = 2.5 + 3 = 5.5 hours. Then, 5.5 + 0.5 = 6 hours, which also matches the first journey. Perfect.\\n\\nTherefore, the solution is correct.\\n\\n**Final Answer**\\nThe speed of the ship in still water is \\\\boxed{10} km/h and the speed of the river is \\\\boxed{4} km/h.\\n</think>\\n\\nLet \\\\( v \\\\) be the speed of the ship in still water (in km/h) and \\\\( r \\\\) be the speed of the river (in km/h). The effective speeds of the ship upstream and downstream are \\\\( v - r \\\\) and \\\\( v + r \\\\), respectively.\\n\\nWe are given three journeys with the following time relationships:\\n1. The journey of 24 km upstream and 28 km downstream takes half an hour less than the journey of 30 km upstream and 21 km downstream.\\n2. The journey of 24 km upstream and 28 km downstream takes half an hour more than the journey of 15 km upstream and 42 km downstream.\\n\\nWe set up the equations for the times taken for each journey:\\n1. For the first journey (24 km upstream, 28 km downstream):\\n   \\\\[\\n   \\\\frac{24}{v - r} + \\\\frac{28}{v + r}\\n   \\\\]\\n2. For the second journey (30 km upstream, 21 km downstream):\\n   \\\\[\\n   \\\\frac{30}{v - r} + \\\\frac{21}{v + r}\\n   \\\\]\\n3. For the third journey (15 km upstream, 42 km downstream):\\n   \\\\[\\n   \\\\frac{15}{v - r} + \\\\frac{42}{v + r}\\n   \\\\]\\n\\nThe time relationships give us the following equations:\\n1. \\\\[\\n   \\\\frac{24}{v - r} + \\\\frac{28}{v + r} = \\\\frac{30}{v - r} + \\\\frac{21}{v + r} - 0.5\\n   \\\\]\\n2. \\\\[\\n   \\\\frac{24}{v - r} + \\\\frac{28}{v + r} = \\\\frac{15}{v - r} + \\\\frac{42}{v + r} + 0.5\\n   \\\\]\\n\\nIntroducing variables \\\\( x = \\\\frac{1}{v - r} \\\\) and \\\\( y = \\\\frac{1}{v + r} \\\\), we transform the equations into:\\n1. \\\\[\\n   -6x + 7y = -0.5\\n   \\\\]\\n2. \\\\[\\n   9x - 14y = 0.5\\n   \\\\]\\n\\nSolving this system of linear equations:\\n1. Multiply the first equation by 2:\\n   \\\\[\\n   -12x + 14y = -1\\n   \\\\]\\n2. Add the modified first equation to the second equation:\\n   \\\\[\\n   -3x = -0.5 \\\\implies x = \\\\frac{1}{6}\\n   \\\\]\\n3. Substitute \\\\( x = \\\\frac{1}{6} \\\\) into the first equation:\\n   \\\\[\\n   -6 \\\\left( \\\\frac{1}{6} \\\\right) + 7y = -0.5 \\\\implies -1 + 7y = -0.5 \\\\implies 7y = 0.5 \\\\implies y = \\\\frac{1}{14}\\n   \\\\]\\n\\nConverting back to \\\\( v \\\\) and \\\\( r \\\\):\\n1. \\\\( v - r = 6 \\\\)\\n2. \\\\( v + r = 14 \\\\)\\n\\nSolving these equations:\\n1. Adding the two equations:\\n   \\\\[\\n   2v = 20 \\\\implies v = 10\\n   \\\\]\\n2. Substituting \\\\( v = 10 \\\\) into \\\\( v + r = 14 \\\\):\\n   \\\\[\\n   10 + r = 14 \\\\implies r = 4\\n   \\\\]\\n\\nThe speed of the ship in still water is \\\\(\\\\boxed{10}\\\\) km/h and the speed of the river is \\\\(\\\\boxed{4}\\\\) km/h.', 'role': 'assistant'}]\n"
     ]
    }
   ],
   "source": [
    "print(((ds[0][\"messages\"])))"
   ]
  },
  {
   "cell_type": "code",
   "execution_count": 5,
   "metadata": {},
   "outputs": [
    {
     "name": "stdout",
     "output_type": "stream",
     "text": [
      "Length 1: 1446 occurrences\n",
      "Length 2: 88456 occurrences\n",
      "Length 3: 49 occurrences\n",
      "Length 4: 3706 occurrences\n",
      "Length 5: 18 occurrences\n",
      "Length 6: 58 occurrences\n",
      "\n",
      "Total number of items: 93733\n"
     ]
    }
   ],
   "source": [
    "# Count the occurrences of each length in the \"generations\" field\n",
    "generations = ds[\"generations\"]\n",
    "length_counts = {}\n",
    "\n",
    "for gen in generations:\n",
    "    length = len(gen)\n",
    "    if length in length_counts:\n",
    "        length_counts[length] += 1\n",
    "    else:\n",
    "        length_counts[length] = 1\n",
    "\n",
    "# Print the counts in a sorted manner\n",
    "for length, count in sorted(length_counts.items()):\n",
    "    print(f\"Length {length}: {count} occurrences\")\n",
    "\n",
    "# Also print the total number of items\n",
    "print(f\"\\nTotal number of items: {len(generations)}\")\n"
   ]
  },
  {
   "cell_type": "code",
   "execution_count": 6,
   "metadata": {},
   "outputs": [],
   "source": [
    "from collections import defaultdict\n",
    "\n",
    "def analyze_dataset(dataset, filter_func=None):\n",
    "    # Filter the dataset\n",
    "    if filter_func is None:\n",
    "        filtered_data = dataset\n",
    "    else:\n",
    "        filtered_data = [item for item in dataset if filter_func(item)]\n",
    "    \n",
    "    # 1. Analyze source distribution\n",
    "    source_counter = defaultdict(int)\n",
    "    \n",
    "    for item in filtered_data:\n",
    "        source = item[\"source\"]\n",
    "        source_counter[source] += 1\n",
    "    \n",
    "    print(f\"Total entries in filtered dataset: {len(filtered_data)}\")\n",
    "    print(\"\\nSource Distribution:\")\n",
    "    print(\"-\" * 40)\n",
    "    \n",
    "    total_items = len(filtered_data)\n",
    "    for source, count in sorted(source_counter.items()):\n",
    "        percentage = count / total_items * 100\n",
    "        print(f\"Source {source}: {count} occurrences ({percentage:.2f}% of the dataset)\")\n",
    "    \n",
    "    # 2. Calculate difficulty based on correctness_math_verify\n",
    "    total_difficulty = 0\n",
    "    difficulty_distribution = defaultdict(int)\n",
    "    \n",
    "    for item in filtered_data:\n",
    "        correctness = item[\"correctness_math_verify\"]\n",
    "        difficulty = sum(correctness) / len(correctness)\n",
    "        total_difficulty += difficulty\n",
    "        \n",
    "        # Round difficulty to nearest 0.1 for distribution\n",
    "        rounded_difficulty = round(difficulty * 10) / 10\n",
    "        difficulty_distribution[rounded_difficulty] += 1\n",
    "    \n",
    "    avg_difficulty = total_difficulty / total_items if total_items > 0 else 0\n",
    "    \n",
    "    print(\"\\nDifficulty Analysis:\")\n",
    "    print(\"-\" * 40)\n",
    "    print(f\"Average difficulty: {avg_difficulty:.4f}\")\n",
    "    print(\"\\nDifficulty Distribution:\")\n",
    "    \n",
    "    for diff, count in sorted(difficulty_distribution.items()):\n",
    "        percentage = count / total_items * 100\n",
    "        print(f\"Difficulty {diff:.2f}: {count} occurrences ({percentage:.2f}% of the dataset)\")\n",
    "    "
   ]
  },
  {
   "cell_type": "code",
   "execution_count": 7,
   "metadata": {},
   "outputs": [
    {
     "name": "stdout",
     "output_type": "stream",
     "text": [
      "Total entries in filtered dataset: 93733\n",
      "\n",
      "Source Distribution:\n",
      "----------------------------------------\n",
      "Source amc_aime: 3403 occurrences (3.63% of the dataset)\n",
      "Source aops_forum: 8345 occurrences (8.90% of the dataset)\n",
      "Source cn_contest: 12046 occurrences (12.85% of the dataset)\n",
      "Source inequalities: 806 occurrences (0.86% of the dataset)\n",
      "Source number_theory: 380 occurrences (0.41% of the dataset)\n",
      "Source olympiads: 68089 occurrences (72.64% of the dataset)\n",
      "Source olympiads_ref: 664 occurrences (0.71% of the dataset)\n",
      "\n",
      "Difficulty Analysis:\n",
      "----------------------------------------\n",
      "Average difficulty: 0.6312\n",
      "\n",
      "Difficulty Distribution:\n",
      "Difficulty 0.00: 28627 occurrences (30.54% of the dataset)\n",
      "Difficulty 0.20: 592 occurrences (0.63% of the dataset)\n",
      "Difficulty 0.30: 38 occurrences (0.04% of the dataset)\n",
      "Difficulty 0.50: 10682 occurrences (11.40% of the dataset)\n",
      "Difficulty 0.60: 1 occurrences (0.00% of the dataset)\n",
      "Difficulty 0.70: 16 occurrences (0.02% of the dataset)\n",
      "Difficulty 0.80: 494 occurrences (0.53% of the dataset)\n",
      "Difficulty 1.00: 53283 occurrences (56.85% of the dataset)\n"
     ]
    }
   ],
   "source": [
    "def all(item):\n",
    "    return True\n",
    "\n",
    "all = analyze_dataset(ds, all)"
   ]
  },
  {
   "cell_type": "code",
   "execution_count": 8,
   "metadata": {},
   "outputs": [
    {
     "name": "stdout",
     "output_type": "stream",
     "text": [
      "Total entries in filtered dataset: 88456\n",
      "\n",
      "Source Distribution:\n",
      "----------------------------------------\n",
      "Source amc_aime: 3168 occurrences (3.58% of the dataset)\n",
      "Source aops_forum: 7003 occurrences (7.92% of the dataset)\n",
      "Source cn_contest: 9866 occurrences (11.15% of the dataset)\n",
      "Source inequalities: 686 occurrences (0.78% of the dataset)\n",
      "Source number_theory: 322 occurrences (0.36% of the dataset)\n",
      "Source olympiads: 66755 occurrences (75.47% of the dataset)\n",
      "Source olympiads_ref: 656 occurrences (0.74% of the dataset)\n",
      "\n",
      "Difficulty Analysis:\n",
      "----------------------------------------\n",
      "Average difficulty: 0.6345\n",
      "\n",
      "Difficulty Distribution:\n",
      "Difficulty 0.00: 27181 occurrences (30.73% of the dataset)\n",
      "Difficulty 0.50: 10292 occurrences (11.64% of the dataset)\n",
      "Difficulty 1.00: 50983 occurrences (57.64% of the dataset)\n"
     ]
    }
   ],
   "source": [
    "def length_2_fn(item):\n",
    "    return len(item[\"generations\"]) == 2\n",
    "\n",
    "def length_4_fn(item):\n",
    "    return len(item[\"generations\"]) == 4\n",
    "\n",
    "length_2_data = analyze_dataset(ds, length_2_fn)"
   ]
  },
  {
   "cell_type": "code",
   "execution_count": 9,
   "metadata": {},
   "outputs": [],
   "source": [
    "def analyze_difficulty_by_source(dataset, filter_func=None):\n",
    "    \"\"\"\n",
    "    Analyzes the average difficulty of the dataset grouped by source.\n",
    "    \n",
    "    Parameters:\n",
    "    dataset -- the dataset to analyze\n",
    "    filter_func -- optional filter function to apply to the dataset\n",
    "    \n",
    "    Returns:\n",
    "    A dictionary with source as key and average difficulty as value\n",
    "    \"\"\"\n",
    "    # Filter the dataset if a filter function is provided\n",
    "    if filter_func:\n",
    "        filtered_data = [item for item in dataset if filter_func(item)]\n",
    "    else:\n",
    "        filtered_data = dataset\n",
    "    \n",
    "    # Initialize counters for each source\n",
    "    source_difficulties = defaultdict(list)\n",
    "    \n",
    "    # Calculate difficulty for each item and group by source\n",
    "    for item in filtered_data:\n",
    "        source = item[\"source\"]\n",
    "        correctness = item[\"correctness_math_verify\"]\n",
    "        \n",
    "        # Only calculate if correctness data exists and is not empty\n",
    "        if correctness and len(correctness) > 0:\n",
    "            difficulty = sum(correctness) / len(correctness)\n",
    "            source_difficulties[source].append(difficulty)\n",
    "    \n",
    "    # Calculate average difficulty for each source\n",
    "    avg_difficulties = {}\n",
    "    for source, difficulties in source_difficulties.items():\n",
    "        if difficulties:\n",
    "            avg_difficulties[source] = sum(difficulties) / len(difficulties)\n",
    "    \n",
    "    # Print the results\n",
    "    print(\"Average Difficulty by Source:\")\n",
    "    print(\"-\" * 40)\n",
    "    \n",
    "    for source, avg_diff in sorted(avg_difficulties.items(), key=lambda x: x[1]):\n",
    "        count = len(source_difficulties[source])\n",
    "        print(f\"Source {source}: {avg_diff:.4f} (from {count} items)\")\n",
    "    \n",
    "    return avg_difficulties"
   ]
  },
  {
   "cell_type": "code",
   "execution_count": 10,
   "metadata": {},
   "outputs": [
    {
     "name": "stdout",
     "output_type": "stream",
     "text": [
      "Average Difficulty by Source:\n",
      "----------------------------------------\n",
      "Source amc_aime: 0.2820 (from 3403 items)\n",
      "Source number_theory: 0.4779 (from 380 items)\n",
      "Source olympiads: 0.6079 (from 68089 items)\n",
      "Source olympiads_ref: 0.6627 (from 664 items)\n",
      "Source aops_forum: 0.6905 (from 8345 items)\n",
      "Source inequalities: 0.7260 (from 806 items)\n",
      "Source cn_contest: 0.8173 (from 12046 items)\n"
     ]
    },
    {
     "data": {
      "text/plain": [
       "{'olympiads': 0.6078845334782417,\n",
       " 'aops_forum': 0.6905352506490914,\n",
       " 'cn_contest': 0.8173017322486025,\n",
       " 'inequalities': 0.725951199338296,\n",
       " 'amc_aime': 0.2820060730727789,\n",
       " 'number_theory': 0.47785087719298247,\n",
       " 'olympiads_ref': 0.6626506024096386}"
      ]
     },
     "execution_count": 10,
     "metadata": {},
     "output_type": "execute_result"
    }
   ],
   "source": [
    "analyze_difficulty_by_source(ds)"
   ]
  },
  {
   "cell_type": "code",
   "execution_count": 11,
   "metadata": {},
   "outputs": [
    {
     "name": "stdout",
     "output_type": "stream",
     "text": [
      "Average Difficulty by Source:\n",
      "----------------------------------------\n",
      "Source amc_aime: 0.2563 (from 3168 items)\n",
      "Source number_theory: 0.4286 (from 322 items)\n",
      "Source olympiads: 0.6185 (from 66755 items)\n",
      "Source olympiads_ref: 0.6707 (from 656 items)\n",
      "Source aops_forum: 0.6918 (from 7003 items)\n",
      "Source inequalities: 0.7369 (from 686 items)\n",
      "Source cn_contest: 0.8211 (from 9866 items)\n"
     ]
    },
    {
     "data": {
      "text/plain": [
       "{'olympiads': 0.6185004868549172,\n",
       " 'aops_forum': 0.6918463515636156,\n",
       " 'cn_contest': 0.8210520981147374,\n",
       " 'amc_aime': 0.2563131313131313,\n",
       " 'inequalities': 0.7368804664723032,\n",
       " 'number_theory': 0.42857142857142855,\n",
       " 'olympiads_ref': 0.6707317073170732}"
      ]
     },
     "execution_count": 11,
     "metadata": {},
     "output_type": "execute_result"
    }
   ],
   "source": [
    "analyze_difficulty_by_source(ds, length_2_fn)"
   ]
  },
  {
   "cell_type": "code",
   "execution_count": 12,
   "metadata": {},
   "outputs": [
    {
     "name": "stdout",
     "output_type": "stream",
     "text": [
      "Average Difficulty by Source:\n",
      "----------------------------------------\n",
      "Source olympiads: 0.4094 (from 240 items)\n",
      "Source inequalities: 0.7525 (from 102 items)\n",
      "Source aops_forum: 0.7923 (from 1123 items)\n",
      "Source number_theory: 0.8284 (from 51 items)\n",
      "Source cn_contest: 0.8500 (from 2018 items)\n",
      "Source amc_aime: 0.8547 (from 172 items)\n"
     ]
    },
    {
     "data": {
      "text/plain": [
       "{'aops_forum': 0.7922974176313446,\n",
       " 'olympiads': 0.409375,\n",
       " 'inequalities': 0.7524509803921569,\n",
       " 'cn_contest': 0.8499752229930624,\n",
       " 'amc_aime': 0.8546511627906976,\n",
       " 'number_theory': 0.8284313725490197}"
      ]
     },
     "execution_count": 12,
     "metadata": {},
     "output_type": "execute_result"
    }
   ],
   "source": [
    "analyze_difficulty_by_source(ds, length_4_fn)"
   ]
  },
  {
   "cell_type": "code",
   "execution_count": 13,
   "metadata": {},
   "outputs": [],
   "source": [
    "import random\n",
    "import numpy as np\n",
    "\n",
    "def sample_dataset(dataset, num_samples=5, seed=42):\n",
    "    \"\"\"\n",
    "    Sample random examples from the dataset with reproducibility.\n",
    "    \n",
    "    Parameters:\n",
    "    - dataset: The Huggingface dataset to sample from\n",
    "    - num_samples: Number of samples to return (default: 5)\n",
    "    - seed: Random seed for reproducibility (default: 42)\n",
    "    \n",
    "    Returns:\n",
    "    - A new dataset containing the sampled examples\n",
    "    \"\"\"\n",
    "    # Set seeds for reproducibility\n",
    "    random.seed(seed)\n",
    "    np.random.seed(seed)\n",
    "    \n",
    "    # Get dataset size\n",
    "    dataset_size = len(dataset)\n",
    "    \n",
    "    # Generate random indices\n",
    "    indices = random.sample(range(dataset_size), min(num_samples, dataset_size))\n",
    "    \n",
    "    # Use Huggingface's built-in select method to get samples\n",
    "    sampled_dataset = dataset.select(indices)\n",
    "    \n",
    "    return sampled_dataset\n"
   ]
  },
  {
   "cell_type": "code",
   "execution_count": 14,
   "metadata": {},
   "outputs": [],
   "source": [
    "ds_10k = sample_dataset(ds, num_samples=10000)"
   ]
  },
  {
   "cell_type": "code",
   "execution_count": 15,
   "metadata": {},
   "outputs": [
    {
     "name": "stdout",
     "output_type": "stream",
     "text": [
      "Total entries in filtered dataset: 10000\n",
      "\n",
      "Source Distribution:\n",
      "----------------------------------------\n",
      "Source amc_aime: 382 occurrences (3.82% of the dataset)\n",
      "Source aops_forum: 901 occurrences (9.01% of the dataset)\n",
      "Source cn_contest: 1320 occurrences (13.20% of the dataset)\n",
      "Source inequalities: 79 occurrences (0.79% of the dataset)\n",
      "Source number_theory: 43 occurrences (0.43% of the dataset)\n",
      "Source olympiads: 7206 occurrences (72.06% of the dataset)\n",
      "Source olympiads_ref: 69 occurrences (0.69% of the dataset)\n",
      "\n",
      "Difficulty Analysis:\n",
      "----------------------------------------\n",
      "Average difficulty: 0.6323\n",
      "\n",
      "Difficulty Distribution:\n",
      "Difficulty 0.00: 3040 occurrences (30.40% of the dataset)\n",
      "Difficulty 0.20: 64 occurrences (0.64% of the dataset)\n",
      "Difficulty 0.30: 4 occurrences (0.04% of the dataset)\n",
      "Difficulty 0.50: 1143 occurrences (11.43% of the dataset)\n",
      "Difficulty 0.70: 1 occurrences (0.01% of the dataset)\n",
      "Difficulty 0.80: 57 occurrences (0.57% of the dataset)\n",
      "Difficulty 1.00: 5691 occurrences (56.91% of the dataset)\n",
      "Average Difficulty by Source:\n",
      "----------------------------------------\n",
      "Source amc_aime: 0.2539 (from 382 items)\n",
      "Source olympiads: 0.6086 (from 7206 items)\n",
      "Source number_theory: 0.6105 (from 43 items)\n",
      "Source olympiads_ref: 0.6377 (from 69 items)\n",
      "Source inequalities: 0.6656 (from 79 items)\n",
      "Source aops_forum: 0.6762 (from 901 items)\n",
      "Source cn_contest: 0.8396 (from 1320 items)\n"
     ]
    },
    {
     "data": {
      "text/plain": [
       "{'olympiads': 0.6086247571468221,\n",
       " 'cn_contest': 0.8396464646464648,\n",
       " 'olympiads_ref': 0.6376811594202898,\n",
       " 'aops_forum': 0.6761931187569368,\n",
       " 'amc_aime': 0.25392670157068065,\n",
       " 'number_theory': 0.6104651162790697,\n",
       " 'inequalities': 0.6656118143459915}"
      ]
     },
     "execution_count": 15,
     "metadata": {},
     "output_type": "execute_result"
    }
   ],
   "source": [
    "analyze_dataset(ds_10k)\n",
    "analyze_difficulty_by_source(ds_10k)"
   ]
  },
  {
   "cell_type": "code",
   "execution_count": 18,
   "metadata": {},
   "outputs": [],
   "source": [
    "from datasets import Dataset, DatasetDict\n",
    "\n",
    "def save_dataset(dataset, output_dir, dataset_name=\"openr1_math_subset\"):\n",
    "    \"\"\"\n",
    "    Save a dataset in the HuggingFace dataset format with a 'train' split\n",
    "    \n",
    "    Parameters:\n",
    "    - dataset: The Huggingface dataset to save\n",
    "    - output_dir: Directory where the dataset will be saved\n",
    "    - dataset_name: Name for the saved dataset\n",
    "    \n",
    "    Returns:\n",
    "    - Path to the saved dataset\n",
    "    \"\"\"\n",
    "    # Create output directory if it doesn't exist\n",
    "    full_output_path = os.path.join(output_dir, dataset_name)\n",
    "    os.makedirs(full_output_path, exist_ok=True)\n",
    "    \n",
    "    # Create a DatasetDict with a 'train' split\n",
    "    dataset_dict = DatasetDict({\"train\": dataset})\n",
    "    \n",
    "    # Save the dataset\n",
    "    dataset_dict.save_to_disk(full_output_path)\n",
    "    \n",
    "    print(f\"Dataset saved to: {full_output_path}\")\n",
    "    print(f\"To load it back, use: from datasets import load_from_disk\")\n",
    "    print(f\"                       dataset_dict = load_from_disk('{full_output_path}')\")\n",
    "    print(f\"                       ds = dataset_dict['train']\")\n",
    "    \n",
    "    return full_output_path"
   ]
  },
  {
   "cell_type": "code",
   "execution_count": 19,
   "metadata": {},
   "outputs": [
    {
     "name": "stderr",
     "output_type": "stream",
     "text": [
      "Saving the dataset (0/2 shards):   0%|          | 0/10000 [00:00<?, ? examples/s]"
     ]
    },
    {
     "name": "stderr",
     "output_type": "stream",
     "text": [
      "Saving the dataset (2/2 shards): 100%|██████████| 10000/10000 [00:00<00:00, 10587.11 examples/s]"
     ]
    },
    {
     "name": "stdout",
     "output_type": "stream",
     "text": [
      "Dataset saved to: ../processed_datasets/openr1_math_subset_10k\n",
      "To load it back, use: from datasets import load_from_disk\n",
      "                       dataset_dict = load_from_disk('../processed_datasets/openr1_math_subset_10k')\n",
      "                       ds = dataset_dict['train']\n"
     ]
    },
    {
     "name": "stderr",
     "output_type": "stream",
     "text": [
      "\n"
     ]
    },
    {
     "data": {
      "text/plain": [
       "'../processed_datasets/openr1_math_subset_10k'"
      ]
     },
     "execution_count": 19,
     "metadata": {},
     "output_type": "execute_result"
    }
   ],
   "source": [
    "save_dataset(ds_10k, \"../processed_datasets\", \"openr1_math_subset_10k\")"
   ]
  },
  {
   "cell_type": "code",
   "execution_count": null,
   "metadata": {},
   "outputs": [],
   "source": []
  }
 ],
 "metadata": {
  "kernelspec": {
   "display_name": "openr1",
   "language": "python",
   "name": "python3"
  },
  "language_info": {
   "codemirror_mode": {
    "name": "ipython",
    "version": 3
   },
   "file_extension": ".py",
   "mimetype": "text/x-python",
   "name": "python",
   "nbconvert_exporter": "python",
   "pygments_lexer": "ipython3",
   "version": "3.11.11"
  }
 },
 "nbformat": 4,
 "nbformat_minor": 2
}
